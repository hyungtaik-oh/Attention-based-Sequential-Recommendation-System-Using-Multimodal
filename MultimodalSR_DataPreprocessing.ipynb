{
 "cells": [
  {
   "cell_type": "code",
   "execution_count": 1,
   "id": "4b91eb3a",
   "metadata": {},
   "outputs": [],
   "source": [
    "import pandas as pd\n",
    "import json\n",
    "from tqdm.auto import tqdm\n",
    "\n",
    "import gzip\n",
    "from collections import defaultdict\n",
    "from datetime import datetime"
   ]
  },
  {
   "cell_type": "code",
   "execution_count": null,
   "id": "d37ddc00",
   "metadata": {},
   "outputs": [],
   "source": [
    "meta_name = 'meta_Sports_and_Outdoors'"
   ]
  },
  {
   "cell_type": "code",
   "execution_count": 2,
   "id": "3a406164",
   "metadata": {},
   "outputs": [
    {
     "name": "stdout",
     "output_type": "stream",
     "text": [
      "CPU times: user 41.5 s, sys: 2.44 s, total: 44 s\n",
      "Wall time: 44 s\n"
     ]
    }
   ],
   "source": [
    "# meta 데이터 셋\n",
    "%%time\n",
    "data = []\n",
    "with gzip.open(f'data/Amazon_2018/{meta_name}.json.gz') as f:\n",
    "    for l in f:\n",
    "        data.append(json.loads(l.strip()))\n",
    "\n",
    "meta = pd.DataFrame.from_dict(data)\n",
    "\n",
    "print('원래 사이즈 :', pd.DataFrame.from_dict(data).shape)"
   ]
  },
  {
   "cell_type": "code",
   "execution_count": 5,
   "id": "61793c2c",
   "metadata": {},
   "outputs": [],
   "source": [
    "# meta 데이터 중 description 없는 데이터 셋 제거\n",
    "drop_li = []\n",
    "for n, i in enumerate(meta['description']):\n",
    "    if len(i) != 0 :\n",
    "        drop_li.append(n)\n",
    "\n",
    "meta = meta.iloc[drop_li].reset_index(drop = True)"
   ]
  },
  {
   "cell_type": "code",
   "execution_count": 7,
   "id": "6b266968",
   "metadata": {},
   "outputs": [],
   "source": [
    "# meta 데이터 중 imageURL 없는 데이터 셋 제거\n",
    "drop_li = []\n",
    "for n, i in enumerate(meta['imageURL']):\n",
    "    if len(i) != 0 :\n",
    "        drop_li.append(n)\n",
    "\n",
    "meta = meta.iloc[drop_li].reset_index(drop = True)"
   ]
  },
  {
   "cell_type": "code",
   "execution_count": null,
   "id": "d85fc00a",
   "metadata": {},
   "outputs": [],
   "source": [
    "data_name = 'Sports_and_Outdoors_5'"
   ]
  },
  {
   "cell_type": "code",
   "execution_count": 9,
   "id": "9a121dfd",
   "metadata": {},
   "outputs": [
    {
     "name": "stdout",
     "output_type": "stream",
     "text": [
      "CPU times: user 33.9 s, sys: 712 ms, total: 34.6 s\n",
      "Wall time: 34.6 s\n"
     ]
    }
   ],
   "source": [
    "# 5-core 데이터 셋\n",
    "%%time\n",
    "data = []\n",
    "with gzip.open(f'data/Amazon_2018/{data_name}.json.gz') as f:\n",
    "    for l in f:\n",
    "        data.append(json.loads(l.strip()))"
   ]
  },
  {
   "cell_type": "code",
   "execution_count": 10,
   "id": "c37a60c7",
   "metadata": {},
   "outputs": [],
   "source": [
    "origin = pd.DataFrame.from_dict(data)\n",
    "print(origin.shape)"
   ]
  },
  {
   "cell_type": "code",
   "execution_count": 21,
   "id": "60e5fa7c",
   "metadata": {},
   "outputs": [],
   "source": [
    "# 데이터셋 구성\n",
    "countU = defaultdict(lambda: 0)\n",
    "countP = defaultdict(lambda: 0)\n",
    "line = 0\n",
    "\n",
    "for i in range(len(origin)) : \n",
    "    asin = origin['asin'][i]\n",
    "    rev  = origin['reviewerID'][i]\n",
    "    time = origin['unixReviewTime']\n",
    "    countU[rev] += 1\n",
    "    countP[asin] += 1"
   ]
  },
  {
   "cell_type": "code",
   "execution_count": 23,
   "id": "b907d564",
   "metadata": {},
   "outputs": [],
   "source": [
    "usermap = dict()\n",
    "usernum = 0\n",
    "itemmap = dict()\n",
    "itemnum = 0\n",
    "User = dict()\n",
    "\n",
    "for i in tqdm(range(len(origin))) : \n",
    "    asin = origin['asin'][i]\n",
    "    rev  = origin['reviewerID'][i]\n",
    "    time = origin['unixReviewTime']\n",
    "    \n",
    "    if countU[rev] < 5:\n",
    "        continue\n",
    "    \n",
    "    if rev in usermap:\n",
    "        userid = usermap[rev]\n",
    "    else:\n",
    "        usernum += 1\n",
    "        userid = usernum\n",
    "        usermap[rev] = userid\n",
    "        User[userid] = []\n",
    "    \n",
    "    if asin in itemmap:\n",
    "        itemid = itemmap[asin]\n",
    "    else:\n",
    "        itemnum += 1\n",
    "        itemid = itemnum\n",
    "        itemmap[asin] = itemid\n",
    "    User[userid].append([time, itemid])\n",
    "# sort reviews in User according to time    "
   ]
  },
  {
   "cell_type": "code",
   "execution_count": 25,
   "id": "7710fba9",
   "metadata": {},
   "outputs": [
    {
     "name": "stdout",
     "output_type": "stream",
     "text": [
      "153940 55697\n"
     ]
    }
   ],
   "source": [
    "print(usernum, itemnum)"
   ]
  },
  {
   "cell_type": "code",
   "execution_count": 26,
   "id": "c3ac2b29",
   "metadata": {},
   "outputs": [],
   "source": [
    "f = open('data/Amazon_2018/Sports_and_Outdoors.txt', 'w')\n",
    "for user in User.keys():\n",
    "    for i in User[user]:\n",
    "        f.write('%d %d\\n' % (user, i[1]))\n",
    "f.close()"
   ]
  },
  {
   "cell_type": "code",
   "execution_count": 27,
   "id": "faaf4335",
   "metadata": {},
   "outputs": [],
   "source": [
    "meta = meta[meta['asin'].isin(list(itemmap.keys()))].reset_index(drop = True)"
   ]
  },
  {
   "cell_type": "code",
   "execution_count": 29,
   "id": "530ee312",
   "metadata": {},
   "outputs": [
    {
     "data": {
      "application/vnd.jupyter.widget-view+json": {
       "model_id": "a46d2f55e61e4c8b9b641910c5a548c8",
       "version_major": 2,
       "version_minor": 0
      },
      "text/plain": [
       "0it [00:00, ?it/s]"
      ]
     },
     "metadata": {},
     "output_type": "display_data"
    }
   ],
   "source": [
    "for n, i in tqdm(enumerate(meta['asin'])):\n",
    "    meta['asin'][n] = itemmap[i]"
   ]
  },
  {
   "cell_type": "markdown",
   "id": "bcf8b979",
   "metadata": {},
   "source": [
    "### Extract text features"
   ]
  },
  {
   "cell_type": "code",
   "execution_count": 50,
   "id": "285398eb",
   "metadata": {},
   "outputs": [
    {
     "name": "stderr",
     "output_type": "stream",
     "text": [
      "2022-06-07 09:40:00.448941: W tensorflow/stream_executor/platform/default/dso_loader.cc:64] Could not load dynamic library 'libcudart.so.11.0'; dlerror: libcudart.so.11.0: cannot open shared object file: No such file or directory; LD_LIBRARY_PATH: /usr/local/lib/python3.7/dist-packages/cv2/../../lib64:/usr/local/cuda/extras/CUPTI/lib64:/usr/local/cuda/lib64:/usr/local/nvidia/lib:/usr/local/nvidia/lib64\n",
      "2022-06-07 09:40:00.448960: I tensorflow/stream_executor/cuda/cudart_stub.cc:29] Ignore above cudart dlerror if you do not have a GPU set up on your machine.\n"
     ]
    }
   ],
   "source": [
    "from transformers import BertTokenizer, BertModel\n",
    "import pandas as pd\n",
    "import numpy as np\n",
    "import nltk\n",
    "import torch\n",
    "\n",
    "from tqdm.auto import tqdm"
   ]
  },
  {
   "cell_type": "code",
   "execution_count": 51,
   "id": "e26f8c26",
   "metadata": {},
   "outputs": [
    {
     "name": "stderr",
     "output_type": "stream",
     "text": [
      "Some weights of the model checkpoint at bert-base-uncased were not used when initializing BertModel: ['cls.predictions.decoder.weight', 'cls.predictions.transform.LayerNorm.bias', 'cls.predictions.transform.LayerNorm.weight', 'cls.seq_relationship.bias', 'cls.predictions.transform.dense.weight', 'cls.seq_relationship.weight', 'cls.predictions.bias', 'cls.predictions.transform.dense.bias']\n",
      "- This IS expected if you are initializing BertModel from the checkpoint of a model trained on another task or with another architecture (e.g. initializing a BertForSequenceClassification model from a BertForPreTraining model).\n",
      "- This IS NOT expected if you are initializing BertModel from the checkpoint of a model that you expect to be exactly identical (initializing a BertForSequenceClassification model from a BertForSequenceClassification model).\n"
     ]
    }
   ],
   "source": [
    "model = BertModel.from_pretrained('bert-base-uncased',\n",
    "                                  output_hidden_states = True,\n",
    "                                  )"
   ]
  },
  {
   "cell_type": "code",
   "execution_count": 52,
   "id": "b036db15",
   "metadata": {},
   "outputs": [],
   "source": [
    "tokenizer = BertTokenizer.from_pretrained('bert-base-uncased')"
   ]
  },
  {
   "cell_type": "code",
   "execution_count": 53,
   "id": "0826e270",
   "metadata": {},
   "outputs": [],
   "source": [
    "def bert_text_preparation(text, tokenizer):\n",
    "    indexed_tokens = tokenizer(text[0], truncation = True).input_ids\n",
    "    segments_ids = [1]*len(indexed_tokens)\n",
    "\n",
    "    tokens_tensor = torch.tensor([indexed_tokens])\n",
    "    segments_tensors = torch.tensor([segments_ids])\n",
    "    \n",
    "    return tokens_tensor, segments_tensors"
   ]
  },
  {
   "cell_type": "code",
   "execution_count": 54,
   "id": "e968cbfe",
   "metadata": {},
   "outputs": [],
   "source": [
    "def get_bert_embeddings(tokens_tensor, segments_tensors, model):\n",
    "    with torch.no_grad():\n",
    "        outputs = model(tokens_tensor, segments_tensors)\n",
    "\n",
    "    return outputs[1]"
   ]
  },
  {
   "cell_type": "code",
   "execution_count": 55,
   "id": "5f983109",
   "metadata": {},
   "outputs": [
    {
     "data": {
      "application/vnd.jupyter.widget-view+json": {
       "model_id": "7972b9c6f5384d3faf39b230c174e06f",
       "version_major": 2,
       "version_minor": 0
      },
      "text/plain": [
       "  0%|          | 0/56187 [00:00<?, ?it/s]"
      ]
     },
     "metadata": {},
     "output_type": "display_data"
    }
   ],
   "source": [
    "outputs = []\n",
    "for text in tqdm(meta['description']) :\n",
    "    tokens_tensor, segments_tensors = bert_text_preparation(text, tokenizer)\n",
    "    output = get_bert_embeddings(tokens_tensor, segments_tensors, model)\n",
    "    outputs.append(output.detach().numpy()[0])"
   ]
  },
  {
   "cell_type": "code",
   "execution_count": 56,
   "id": "543e342e",
   "metadata": {},
   "outputs": [],
   "source": [
    "np.save('data/Amazon_2018/pre_description_Sports_and_Outdoors', outputs)"
   ]
  },
  {
   "cell_type": "markdown",
   "id": "63c677aa",
   "metadata": {},
   "source": [
    "### Extract image features"
   ]
  },
  {
   "cell_type": "code",
   "execution_count": 30,
   "id": "bcb5c341",
   "metadata": {},
   "outputs": [],
   "source": [
    "import numpy as np\n",
    "\n",
    "import urllib\n",
    "from urllib.request import urlopen\n",
    "from urllib.error import URLError, HTTPError\n",
    "\n",
    "import cv2\n",
    "from PIL import Image\n",
    "\n",
    "import torch\n",
    "from torchvision import models\n",
    "from torchvision import transforms"
   ]
  },
  {
   "cell_type": "code",
   "execution_count": 34,
   "id": "2ff73857",
   "metadata": {},
   "outputs": [],
   "source": [
    "def url_to_image(url, readFlag=cv2.IMREAD_COLOR):\n",
    "    resp = urllib.request.urlopen(url)\n",
    "    image = np.asarray(bytearray(resp.read()), dtype=\"uint8\")\n",
    "    image = cv2.imdecode(image, cv2.IMREAD_COLOR)\n",
    "\n",
    "    return image"
   ]
  },
  {
   "cell_type": "code",
   "execution_count": 73,
   "id": "ab5e513f",
   "metadata": {},
   "outputs": [],
   "source": [
    "model = models.vgg16(pretrained=True)\n",
    "model.classifier = model.classifier[:-1]"
   ]
  },
  {
   "cell_type": "code",
   "execution_count": 48,
   "id": "dfd0e40b",
   "metadata": {},
   "outputs": [
    {
     "data": {
      "application/vnd.jupyter.widget-view+json": {
       "model_id": "e55e65807ecb428cb6a86c6030d96ab5",
       "version_major": 2,
       "version_minor": 0
      },
      "text/plain": [
       "0it [00:00, ?it/s]"
      ]
     },
     "metadata": {},
     "output_type": "display_data"
    },
    {
     "name": "stdout",
     "output_type": "stream",
     "text": [
      "2269\n",
      "21174\n",
      "CPU times: user 12h 42min 31s, sys: 7min 29s, total: 12h 50min 1s\n",
      "Wall time: 3h 10min 3s\n"
     ]
    }
   ],
   "source": [
    "%%time\n",
    "image_features = []\n",
    "no_url_list = [] # Url 주소가 존재하나 간혹 웹 오류로 인한 url 접근 불가 상황 발생\n",
    "\n",
    "for n, url in tqdm(enumerate(meta['imageURLHighRes'])) :\n",
    "    try : \n",
    "        image = Image.fromarray(url_to_image(url[0]))\n",
    "        tensor = transforms.ToTensor()(transforms.Resize((224, 224))(image)).unsqueeze(dim = 0)\n",
    "        image_features.append(model(tensor).detach().numpy()[0])\n",
    "    except : \n",
    "        try : \n",
    "            image = Image.fromarray(url_to_image(url[-1]))\n",
    "            tensor = transforms.ToTensor()(transforms.Resize((224, 224))(image)).unsqueeze(dim = 0)\n",
    "            image_features.append(model(tensor).detach().numpy()[0])\n",
    "        except : \n",
    "            print(n)\n",
    "            no_url_list.append(n)"
   ]
  },
  {
   "cell_type": "code",
   "execution_count": 68,
   "id": "275a3ae9",
   "metadata": {},
   "outputs": [],
   "source": [
    "# 2269번 이미지 추가\n",
    "err_image = Image.fromarray(url_to_image(meta['imageURLHighRes'][2269][1]))\n",
    "err_tensor = transforms.ToTensor()(transforms.Resize((224, 224))(err_image)).unsqueeze(dim = 0)\n",
    "err_vector = model(err_tensor).detach().numpy()[0]\n",
    "image_features.insert(2269, err_vector)"
   ]
  },
  {
   "cell_type": "code",
   "execution_count": null,
   "id": "c89842f7",
   "metadata": {},
   "outputs": [],
   "source": [
    "# 21174번 이미지 추가\n",
    "err_image2 = Image.fromarray(url_to_image(meta['imageURLHighRes'][21174][4]))\n",
    "err_tensor2 = transforms.ToTensor()(transforms.Resize((224, 224))(err_image2)).unsqueeze(dim = 0)\n",
    "err_vector2 = model(err_tensor2).detach().numpy()[0]\n",
    "image_features.insert(21174, err_vector2)"
   ]
  },
  {
   "cell_type": "code",
   "execution_count": 111,
   "id": "65fb094f",
   "metadata": {
    "scrolled": true
   },
   "outputs": [],
   "source": [
    "np.save('data/Amazon_2018/pre_image_Sports_and_Outdoors', image_features)"
   ]
  },
  {
   "cell_type": "code",
   "execution_count": 112,
   "id": "f217a995",
   "metadata": {},
   "outputs": [],
   "source": [
    "image = np.load('data/Amazon_2018/pre_image_Sports_and_Outdoors.npy')\n",
    "text = np.load('data/Amazon_2018/pre_description_Sports_and_Outdoors.npy')"
   ]
  },
  {
   "cell_type": "code",
   "execution_count": 113,
   "id": "c4d5cc7a",
   "metadata": {},
   "outputs": [
    {
     "data": {
      "text/plain": [
       "56187"
      ]
     },
     "execution_count": 113,
     "metadata": {},
     "output_type": "execute_result"
    }
   ],
   "source": [
    "len(image)"
   ]
  },
  {
   "cell_type": "code",
   "execution_count": 115,
   "id": "4afb8d25",
   "metadata": {},
   "outputs": [
    {
     "data": {
      "text/plain": [
       "56187"
      ]
     },
     "execution_count": 115,
     "metadata": {},
     "output_type": "execute_result"
    }
   ],
   "source": [
    "len(text)"
   ]
  }
 ],
 "metadata": {
  "kernelspec": {
   "display_name": "Python 3 (ipykernel)",
   "language": "python",
   "name": "python3"
  },
  "language_info": {
   "codemirror_mode": {
    "name": "ipython",
    "version": 3
   },
   "file_extension": ".py",
   "mimetype": "text/x-python",
   "name": "python",
   "nbconvert_exporter": "python",
   "pygments_lexer": "ipython3",
   "version": "3.7.5"
  }
 },
 "nbformat": 4,
 "nbformat_minor": 5
}
